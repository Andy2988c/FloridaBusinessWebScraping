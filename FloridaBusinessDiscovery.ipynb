{
 "cells": [
  {
   "cell_type": "code",
   "execution_count": 4,
   "id": "84bf1496-6e95-46e2-9e90-7cdfdcc95dd3",
   "metadata": {},
   "outputs": [
    {
     "name": "stdout",
     "output_type": "stream",
     "text": [
      "Requirement already satisfied: selenium in d:\\anaconda\\lib\\site-packages (4.24.0)\n",
      "Requirement already satisfied: urllib3<3,>=1.26 in d:\\anaconda\\lib\\site-packages (from urllib3[socks]<3,>=1.26->selenium) (2.2.2)\n",
      "Requirement already satisfied: trio~=0.17 in d:\\anaconda\\lib\\site-packages (from selenium) (0.26.2)\n",
      "Requirement already satisfied: trio-websocket~=0.9 in d:\\anaconda\\lib\\site-packages (from selenium) (0.11.1)\n",
      "Requirement already satisfied: certifi>=2021.10.8 in d:\\anaconda\\lib\\site-packages (from selenium) (2024.7.4)\n",
      "Requirement already satisfied: typing_extensions~=4.9 in d:\\anaconda\\lib\\site-packages (from selenium) (4.11.0)\n",
      "Requirement already satisfied: websocket-client~=1.8 in d:\\anaconda\\lib\\site-packages (from selenium) (1.8.0)\n",
      "Requirement already satisfied: attrs>=23.2.0 in d:\\anaconda\\lib\\site-packages (from trio~=0.17->selenium) (24.2.0)\n",
      "Requirement already satisfied: sortedcontainers in d:\\anaconda\\lib\\site-packages (from trio~=0.17->selenium) (2.4.0)\n",
      "Requirement already satisfied: idna in d:\\anaconda\\lib\\site-packages (from trio~=0.17->selenium) (3.7)\n",
      "Requirement already satisfied: outcome in d:\\anaconda\\lib\\site-packages (from trio~=0.17->selenium) (1.3.0.post0)\n",
      "Requirement already satisfied: sniffio>=1.3.0 in d:\\anaconda\\lib\\site-packages (from trio~=0.17->selenium) (1.3.0)\n",
      "Requirement already satisfied: cffi>=1.14 in d:\\anaconda\\lib\\site-packages (from trio~=0.17->selenium) (1.16.0)\n",
      "Requirement already satisfied: wsproto>=0.14 in d:\\anaconda\\lib\\site-packages (from trio-websocket~=0.9->selenium) (1.2.0)\n",
      "Requirement already satisfied: pysocks!=1.5.7,<2.0,>=1.5.6 in d:\\anaconda\\lib\\site-packages (from urllib3[socks]<3,>=1.26->selenium) (1.7.1)\n",
      "Requirement already satisfied: pycparser in d:\\anaconda\\lib\\site-packages (from cffi>=1.14->trio~=0.17->selenium) (2.21)\n",
      "Requirement already satisfied: h11<1,>=0.9.0 in d:\\anaconda\\lib\\site-packages (from wsproto>=0.14->trio-websocket~=0.9->selenium) (0.14.0)\n",
      "Note: you may need to restart the kernel to use updated packages.\n"
     ]
    }
   ],
   "source": [
    "pip install selenium"
   ]
  },
  {
   "cell_type": "code",
   "execution_count": 5,
   "id": "5b4b9909-51a1-4f0b-98a9-b9587cc7dc2c",
   "metadata": {},
   "outputs": [
    {
     "name": "stdout",
     "output_type": "stream",
     "text": [
      "Requirement already satisfied: requests in d:\\anaconda\\lib\\site-packages (2.32.2)\n",
      "Requirement already satisfied: beautifulsoup4 in d:\\anaconda\\lib\\site-packages (4.12.3)\n",
      "Requirement already satisfied: charset-normalizer<4,>=2 in d:\\anaconda\\lib\\site-packages (from requests) (2.0.4)\n",
      "Requirement already satisfied: idna<4,>=2.5 in d:\\anaconda\\lib\\site-packages (from requests) (3.7)\n",
      "Requirement already satisfied: urllib3<3,>=1.21.1 in d:\\anaconda\\lib\\site-packages (from requests) (2.2.2)\n",
      "Requirement already satisfied: certifi>=2017.4.17 in d:\\anaconda\\lib\\site-packages (from requests) (2024.7.4)\n",
      "Requirement already satisfied: soupsieve>1.2 in d:\\anaconda\\lib\\site-packages (from beautifulsoup4) (2.5)\n",
      "Note: you may need to restart the kernel to use updated packages.\n"
     ]
    }
   ],
   "source": [
    "pip install requests beautifulsoup4"
   ]
  },
  {
   "cell_type": "code",
   "execution_count": 12,
   "id": "890c5f14-30c7-4051-b36a-b29acfcd7b1a",
   "metadata": {},
   "outputs": [
    {
     "name": "stdout",
     "output_type": "stream",
     "text": [
      "Requirement already satisfied: pandas in d:\\anaconda\\lib\\site-packages (2.2.2)\n",
      "Requirement already satisfied: openpyxl in d:\\anaconda\\lib\\site-packages (3.1.2)\n",
      "Requirement already satisfied: selenium in d:\\anaconda\\lib\\site-packages (4.24.0)\n",
      "Requirement already satisfied: numpy>=1.26.0 in d:\\anaconda\\lib\\site-packages (from pandas) (1.26.4)\n",
      "Requirement already satisfied: python-dateutil>=2.8.2 in d:\\anaconda\\lib\\site-packages (from pandas) (2.9.0.post0)\n",
      "Requirement already satisfied: pytz>=2020.1 in d:\\anaconda\\lib\\site-packages (from pandas) (2024.1)\n",
      "Requirement already satisfied: tzdata>=2022.7 in d:\\anaconda\\lib\\site-packages (from pandas) (2023.3)\n",
      "Requirement already satisfied: et-xmlfile in d:\\anaconda\\lib\\site-packages (from openpyxl) (1.1.0)\n",
      "Requirement already satisfied: urllib3<3,>=1.26 in d:\\anaconda\\lib\\site-packages (from urllib3[socks]<3,>=1.26->selenium) (2.2.2)\n",
      "Requirement already satisfied: trio~=0.17 in d:\\anaconda\\lib\\site-packages (from selenium) (0.26.2)\n",
      "Requirement already satisfied: trio-websocket~=0.9 in d:\\anaconda\\lib\\site-packages (from selenium) (0.11.1)\n",
      "Requirement already satisfied: certifi>=2021.10.8 in d:\\anaconda\\lib\\site-packages (from selenium) (2024.7.4)\n",
      "Requirement already satisfied: typing_extensions~=4.9 in d:\\anaconda\\lib\\site-packages (from selenium) (4.11.0)\n",
      "Requirement already satisfied: websocket-client~=1.8 in d:\\anaconda\\lib\\site-packages (from selenium) (1.8.0)\n",
      "Requirement already satisfied: six>=1.5 in d:\\anaconda\\lib\\site-packages (from python-dateutil>=2.8.2->pandas) (1.16.0)\n",
      "Requirement already satisfied: attrs>=23.2.0 in d:\\anaconda\\lib\\site-packages (from trio~=0.17->selenium) (24.2.0)\n",
      "Requirement already satisfied: sortedcontainers in d:\\anaconda\\lib\\site-packages (from trio~=0.17->selenium) (2.4.0)\n",
      "Requirement already satisfied: idna in d:\\anaconda\\lib\\site-packages (from trio~=0.17->selenium) (3.7)\n",
      "Requirement already satisfied: outcome in d:\\anaconda\\lib\\site-packages (from trio~=0.17->selenium) (1.3.0.post0)\n",
      "Requirement already satisfied: sniffio>=1.3.0 in d:\\anaconda\\lib\\site-packages (from trio~=0.17->selenium) (1.3.0)\n",
      "Requirement already satisfied: cffi>=1.14 in d:\\anaconda\\lib\\site-packages (from trio~=0.17->selenium) (1.16.0)\n",
      "Requirement already satisfied: wsproto>=0.14 in d:\\anaconda\\lib\\site-packages (from trio-websocket~=0.9->selenium) (1.2.0)\n",
      "Requirement already satisfied: pysocks!=1.5.7,<2.0,>=1.5.6 in d:\\anaconda\\lib\\site-packages (from urllib3[socks]<3,>=1.26->selenium) (1.7.1)\n",
      "Requirement already satisfied: pycparser in d:\\anaconda\\lib\\site-packages (from cffi>=1.14->trio~=0.17->selenium) (2.21)\n",
      "Requirement already satisfied: h11<1,>=0.9.0 in d:\\anaconda\\lib\\site-packages (from wsproto>=0.14->trio-websocket~=0.9->selenium) (0.14.0)\n",
      "Note: you may need to restart the kernel to use updated packages.\n"
     ]
    }
   ],
   "source": [
    "pip install pandas openpyxl selenium"
   ]
  },
  {
   "cell_type": "code",
   "execution_count": 26,
   "id": "95e2057e-d356-4b5a-b7e4-cf85e7da087b",
   "metadata": {},
   "outputs": [],
   "source": [
    "#This project is based on finding business names on a website. I chose to use a website called Sunbiz.org that has a database \n",
    "#filled with active and non active busineses around the Southern Florida area, this code will analyze the business nam table of the site and check\n",
    "#if the users name is a valid business in Sunbiz's system\n",
    "#This required a lot of reaserch for me as I never used the selenium library before, I refernced sites such as Stackoverflow as well as the \n",
    "#large language model ChatGPT by OpenAI to understand this library better\n",
    "\n",
    "\n",
    "from selenium import webdriver\n",
    "from selenium.webdriver.common.by import By\n",
    "from selenium.webdriver.common.keys import Keys\n",
    "from selenium.webdriver.chrome.service import Service\n",
    "from selenium.webdriver.support.ui import WebDriverWait\n",
    "from selenium.webdriver.support import expected_conditions as EC\n",
    "from selenium.webdriver.chrome.options import Options\n",
    "import time\n",
    "#Each import serves a functionality, BeautifulSoup allows the parsing of html and xml data, parsing is the extraction of \n",
    "#things such as text elements, links, or table data but this library was not working and I did not end up using it\n",
    "#I had to research why and according to ChatGPT the website SunBiz is using java script to manage their table data and Beautiful Soup cannot read that \n",
    "\n",
    "#For Selenium, I have never used this library before and I had to use this due to the website using javascript to store data from my understanding.\n",
    "#I went ahead and utilized Selenium to locate elements on the webpage, specifically the business name\n",
    "#Selenium uses the chromdriver server and interacts with it to run chrome and preform web browsing as if a normal person would use a search engine\n",
    "\n",
    "\n",
    "def search_sunbiz_selenium(business_name):\n",
    "    # Set up the Chrome WebDriver options\n",
    "    chrome_options = Options()\n",
    "    chrome_options.add_argument(\"--headless\")  # Run in headless mode (without a GUI)\n",
    "    chrome_options.add_argument(\"--no-sandbox\")\n",
    "    chrome_options.add_argument(\"--disable-dev-shm-usage\")\n",
    "    \n",
    "    # Set up the path to your ChromeDriver executable, I placed chrome driver in my documents section\n",
    "    service = Service('C:\\\\Users\\\\Andrew\\\\Documents\\\\chromedriver.exe')  # Update with your path to chromedriver\n",
    "    driver = webdriver.Chrome(service=service, options=chrome_options)\n",
    "    \n",
    "    try: #Try method used incase i ran into any errors and would add an exception if so to prevent the program from crashing\n",
    "        # Open the Sunbiz website\n",
    "        driver.get(\"https://search.sunbiz.org/Inquiry/CorporationSearch/ByName\")\n",
    "\n",
    "        # Wait for the input field to be visible and enter the business name\n",
    "        search_input = WebDriverWait(driver, 10).until(\n",
    "            EC.visibility_of_element_located((By.ID, \"SearchTerm\"))\n",
    "        )\n",
    "        search_input.send_keys(business_name)\n",
    "        search_input.send_keys(Keys.RETURN)\n",
    "        \n",
    "        # Wait for the results table to load\n",
    "        time.sleep(3)  # You may need to adjust the wait time based on the website's response time\n",
    "\n",
    "        # Retrieve the business names from the search results\n",
    "        business_names = driver.find_elements(By.XPATH, \"//table/tbody/tr/td[1]\")\n",
    "\n",
    "        for name in business_names:\n",
    "            found_business_name = name.text.strip().lower()\n",
    "            print(\"Found business name:\", found_business_name)  # Debugging\n",
    "\n",
    "            if business_name.lower().strip() in found_business_name:\n",
    "                return True  # Business exists in the search results\n",
    "\n",
    "        return False  # Business not found\n",
    "\n",
    "    except Exception as e:\n",
    "        print(\"An error occurred:\", str(e))\n",
    "        return False\n",
    "\n",
    "    finally:\n",
    "        # Close the browser\n",
    "        driver.quit()"
   ]
  },
  {
   "cell_type": "code",
   "execution_count": 28,
   "id": "b419e6fa-1bf8-44c4-b941-3eaae1bff9bc",
   "metadata": {},
   "outputs": [
    {
     "name": "stdout",
     "output_type": "stream",
     "text": [
      "Found business name: cold-link logistics providence llc\n",
      "Found business name: cold-link logistics sioux city, llc\n",
      "Found business name: cold links, llc\n",
      "Found business name: cold live, llc\n",
      "Found business name: cold live soto, corp.\n",
      "Found business name: cold loaded transport llc\n",
      "Found business name: cold logic corp.\n",
      "Found business name: the cold logic institute, llc\n",
      "Found business name: cold logisitics llc\n",
      "Found business name: cold logistics llc\n",
      "Found business name: cold logistics, inc.\n",
      "Found business name: cold louie processing llc\n",
      "Found business name: cold market chain llc\n",
      "Found business name: coldmaster, inc.\n",
      "Found business name: cold-masters refrigeration, inc.\n",
      "Found business name: coldmatic building systems, inc.\n",
      "Found business name: coldmax llc\n",
      "Found business name: coldmax emc inc.\n",
      "Found business name: coldmax emc (usa) inc.\n",
      "Found business name: cold max services, llc\n",
      "COLD-LINK LOGISTICS ORLANDO LL does not exist on Sunbiz.\n"
     ]
    }
   ],
   "source": [
    "# Example usage #This will soon scan an excel file full of names\n",
    "if __name__ == \"__main__\":\n",
    "    business_name = \"COLD-LINK LOGISTICS ORLANDO LL\"  # Replace with the business name to search for\n",
    "    exists = search_sunbiz_selenium(business_name)\n",
    "    if exists:\n",
    "        print(f\"{business_name} exists on Sunbiz.\")\n",
    "    else:\n",
    "        print(f\"{business_name} does not exist on Sunbiz.\")"
   ]
  },
  {
   "cell_type": "code",
   "execution_count": null,
   "id": "79919a7e-47c7-4ae1-8fee-0cf4b998a80c",
   "metadata": {},
   "outputs": [],
   "source": []
  }
 ],
 "metadata": {
  "kernelspec": {
   "display_name": "Python 3 (ipykernel)",
   "language": "python",
   "name": "python3"
  },
  "language_info": {
   "codemirror_mode": {
    "name": "ipython",
    "version": 3
   },
   "file_extension": ".py",
   "mimetype": "text/x-python",
   "name": "python",
   "nbconvert_exporter": "python",
   "pygments_lexer": "ipython3",
   "version": "3.12.4"
  }
 },
 "nbformat": 4,
 "nbformat_minor": 5
}
